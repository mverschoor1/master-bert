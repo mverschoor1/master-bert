{
 "cells": [
  {
   "cell_type": "code",
   "execution_count": 2,
   "id": "ddfccfe8-16dc-4e83-8d27-6625b723f2b0",
   "metadata": {
    "collapsed": true,
    "jupyter": {
     "outputs_hidden": true
    },
    "tags": []
   },
   "outputs": [
    {
     "name": "stdout",
     "output_type": "stream",
     "text": [
      "Looking in indexes: https://nexus.irn.intel.politie/repository/pypi-politie/simple\n",
      "Requirement already satisfied: torch in /opt/conda/lib/python3.9/site-packages (1.12.1)\n",
      "Requirement already satisfied: transformers in /opt/conda/lib/python3.9/site-packages (4.21.1)\n",
      "Requirement already satisfied: spacy in /opt/conda/lib/python3.9/site-packages (3.2.4)\n",
      "Requirement already satisfied: tensorflow in /opt/conda/lib/python3.9/site-packages (2.9.1)\n",
      "Requirement already satisfied: matplotlib in /opt/conda/lib/python3.9/site-packages (3.5.3)\n",
      "Requirement already satisfied: datasets in /opt/conda/lib/python3.9/site-packages (2.4.0)\n",
      "Requirement already satisfied: sklearn in /opt/conda/lib/python3.9/site-packages (0.0)\n",
      "Requirement already satisfied: typing-extensions in /opt/conda/lib/python3.9/site-packages (from torch) (4.3.0)\n",
      "Requirement already satisfied: pyyaml>=5.1 in /opt/conda/lib/python3.9/site-packages (from transformers) (6.0)\n",
      "Requirement already satisfied: numpy>=1.17 in /opt/conda/lib/python3.9/site-packages (from transformers) (1.23.1)\n",
      "Requirement already satisfied: huggingface-hub<1.0,>=0.1.0 in /opt/conda/lib/python3.9/site-packages (from transformers) (0.8.1)\n",
      "Requirement already satisfied: regex!=2019.12.17 in /opt/conda/lib/python3.9/site-packages (from transformers) (2022.7.25)\n",
      "Requirement already satisfied: tokenizers!=0.11.3,<0.13,>=0.11.1 in /opt/conda/lib/python3.9/site-packages (from transformers) (0.12.1)\n",
      "Requirement already satisfied: tqdm>=4.27 in /opt/conda/lib/python3.9/site-packages (from transformers) (4.63.0)\n",
      "Requirement already satisfied: packaging>=20.0 in /opt/conda/lib/python3.9/site-packages (from transformers) (21.3)\n",
      "Requirement already satisfied: filelock in /opt/conda/lib/python3.9/site-packages (from transformers) (3.8.0)\n",
      "Requirement already satisfied: requests in /opt/conda/lib/python3.9/site-packages (from transformers) (2.28.1)\n",
      "Requirement already satisfied: spacy-loggers<2.0.0,>=1.0.0 in /opt/conda/lib/python3.9/site-packages (from spacy) (1.0.3)\n",
      "Requirement already satisfied: langcodes<4.0.0,>=3.2.0 in /opt/conda/lib/python3.9/site-packages (from spacy) (3.3.0)\n",
      "Requirement already satisfied: click<8.1.0 in /opt/conda/lib/python3.9/site-packages (from spacy) (8.0.4)\n",
      "Requirement already satisfied: wasabi<1.1.0,>=0.8.1 in /opt/conda/lib/python3.9/site-packages (from spacy) (0.10.1)\n",
      "Requirement already satisfied: pathy>=0.3.5 in /opt/conda/lib/python3.9/site-packages (from spacy) (0.6.2)\n",
      "Requirement already satisfied: blis<0.8.0,>=0.4.0 in /opt/conda/lib/python3.9/site-packages (from spacy) (0.7.8)\n",
      "Requirement already satisfied: spacy-legacy<3.1.0,>=3.0.8 in /opt/conda/lib/python3.9/site-packages (from spacy) (3.0.10)\n",
      "Requirement already satisfied: srsly<3.0.0,>=2.4.1 in /opt/conda/lib/python3.9/site-packages (from spacy) (2.4.4)\n",
      "Requirement already satisfied: pydantic!=1.8,!=1.8.1,<1.9.0,>=1.7.4 in /opt/conda/lib/python3.9/site-packages (from spacy) (1.8.2)\n",
      "Requirement already satisfied: cymem<2.1.0,>=2.0.2 in /opt/conda/lib/python3.9/site-packages (from spacy) (2.0.6)\n",
      "Requirement already satisfied: jinja2 in /opt/conda/lib/python3.9/site-packages (from spacy) (3.1.2)\n",
      "Requirement already satisfied: catalogue<2.1.0,>=2.0.6 in /opt/conda/lib/python3.9/site-packages (from spacy) (2.0.8)\n",
      "Requirement already satisfied: typer<0.5.0,>=0.3.0 in /opt/conda/lib/python3.9/site-packages (from spacy) (0.4.2)\n",
      "Requirement already satisfied: thinc<8.1.0,>=8.0.12 in /opt/conda/lib/python3.9/site-packages (from spacy) (8.0.17)\n",
      "Requirement already satisfied: preshed<3.1.0,>=3.0.2 in /opt/conda/lib/python3.9/site-packages (from spacy) (3.0.7)\n",
      "Requirement already satisfied: setuptools in /opt/conda/lib/python3.9/site-packages (from spacy) (61.2.0)\n",
      "Requirement already satisfied: murmurhash<1.1.0,>=0.28.0 in /opt/conda/lib/python3.9/site-packages (from spacy) (1.0.8)\n",
      "Requirement already satisfied: six>=1.12.0 in /opt/conda/lib/python3.9/site-packages (from tensorflow) (1.16.0)\n",
      "Requirement already satisfied: gast<=0.4.0,>=0.2.1 in /opt/conda/lib/python3.9/site-packages (from tensorflow) (0.4.0)\n",
      "Requirement already satisfied: libclang>=13.0.0 in /opt/conda/lib/python3.9/site-packages (from tensorflow) (14.0.6)\n",
      "Requirement already satisfied: astunparse>=1.6.0 in /opt/conda/lib/python3.9/site-packages (from tensorflow) (1.6.3)\n",
      "Requirement already satisfied: flatbuffers<2,>=1.12 in /opt/conda/lib/python3.9/site-packages (from tensorflow) (1.12)\n",
      "Requirement already satisfied: grpcio<2.0,>=1.24.3 in /opt/conda/lib/python3.9/site-packages (from tensorflow) (1.48.0)\n",
      "Requirement already satisfied: wrapt>=1.11.0 in /opt/conda/lib/python3.9/site-packages (from tensorflow) (1.14.1)\n",
      "Requirement already satisfied: h5py>=2.9.0 in /opt/conda/lib/python3.9/site-packages (from tensorflow) (3.7.0)\n",
      "Requirement already satisfied: absl-py>=1.0.0 in /opt/conda/lib/python3.9/site-packages (from tensorflow) (1.2.0)\n",
      "Requirement already satisfied: protobuf<3.20,>=3.9.2 in /opt/conda/lib/python3.9/site-packages (from tensorflow) (3.19.4)\n",
      "Requirement already satisfied: opt-einsum>=2.3.2 in /opt/conda/lib/python3.9/site-packages (from tensorflow) (3.3.0)\n",
      "Requirement already satisfied: google-pasta>=0.1.1 in /opt/conda/lib/python3.9/site-packages (from tensorflow) (0.2.0)\n",
      "Requirement already satisfied: tensorflow-estimator<2.10.0,>=2.9.0rc0 in /opt/conda/lib/python3.9/site-packages (from tensorflow) (2.9.0)\n",
      "Requirement already satisfied: tensorboard<2.10,>=2.9 in /opt/conda/lib/python3.9/site-packages (from tensorflow) (2.9.1)\n",
      "Requirement already satisfied: keras<2.10.0,>=2.9.0rc0 in /opt/conda/lib/python3.9/site-packages (from tensorflow) (2.9.0)\n",
      "Requirement already satisfied: tensorflow-io-gcs-filesystem>=0.23.1 in /opt/conda/lib/python3.9/site-packages (from tensorflow) (0.26.0)\n",
      "Requirement already satisfied: termcolor>=1.1.0 in /opt/conda/lib/python3.9/site-packages (from tensorflow) (1.1.0)\n",
      "Requirement already satisfied: keras-preprocessing>=1.1.1 in /opt/conda/lib/python3.9/site-packages (from tensorflow) (1.1.2)\n",
      "Requirement already satisfied: fonttools>=4.22.0 in /opt/conda/lib/python3.9/site-packages (from matplotlib) (4.35.0)\n",
      "Requirement already satisfied: python-dateutil>=2.7 in /opt/conda/lib/python3.9/site-packages (from matplotlib) (2.8.2)\n",
      "Requirement already satisfied: kiwisolver>=1.0.1 in /opt/conda/lib/python3.9/site-packages (from matplotlib) (1.4.4)\n",
      "Requirement already satisfied: cycler>=0.10 in /opt/conda/lib/python3.9/site-packages (from matplotlib) (0.11.0)\n",
      "Requirement already satisfied: pyparsing>=2.2.1 in /opt/conda/lib/python3.9/site-packages (from matplotlib) (3.0.9)\n",
      "Requirement already satisfied: pillow>=6.2.0 in /opt/conda/lib/python3.9/site-packages (from matplotlib) (9.2.0)\n",
      "Requirement already satisfied: multiprocess in /opt/conda/lib/python3.9/site-packages (from datasets) (0.70.13)\n",
      "Requirement already satisfied: dill<0.3.6 in /opt/conda/lib/python3.9/site-packages (from datasets) (0.3.5.1)\n",
      "Requirement already satisfied: pyarrow>=6.0.0 in /opt/conda/lib/python3.9/site-packages (from datasets) (9.0.0)\n",
      "Requirement already satisfied: responses<0.19 in /opt/conda/lib/python3.9/site-packages (from datasets) (0.18.0)\n",
      "Requirement already satisfied: aiohttp in /opt/conda/lib/python3.9/site-packages (from datasets) (3.8.1)\n",
      "Requirement already satisfied: fsspec[http]>=2021.11.1 in /opt/conda/lib/python3.9/site-packages (from datasets) (2022.7.1)\n",
      "Requirement already satisfied: pandas in /opt/conda/lib/python3.9/site-packages (from datasets) (1.4.3)\n",
      "Requirement already satisfied: xxhash in /opt/conda/lib/python3.9/site-packages (from datasets) (3.0.0)\n",
      "Requirement already satisfied: scikit-learn in /opt/conda/lib/python3.9/site-packages (from sklearn) (1.1.2)\n",
      "Requirement already satisfied: wheel<1.0,>=0.23.0 in /opt/conda/lib/python3.9/site-packages (from astunparse>=1.6.0->tensorflow) (0.37.1)\n",
      "Requirement already satisfied: smart-open<6.0.0,>=5.2.1 in /opt/conda/lib/python3.9/site-packages (from pathy>=0.3.5->spacy) (5.2.1)\n",
      "Requirement already satisfied: charset-normalizer<3,>=2 in /opt/conda/lib/python3.9/site-packages (from requests->transformers) (2.0.4)\n",
      "Requirement already satisfied: idna<4,>=2.5 in /opt/conda/lib/python3.9/site-packages (from requests->transformers) (3.3)\n",
      "Requirement already satisfied: certifi>=2017.4.17 in /opt/conda/lib/python3.9/site-packages (from requests->transformers) (2022.6.15)\n",
      "Requirement already satisfied: urllib3<1.27,>=1.21.1 in /opt/conda/lib/python3.9/site-packages (from requests->transformers) (1.25.11)\n",
      "Requirement already satisfied: google-auth<3,>=1.6.3 in /opt/conda/lib/python3.9/site-packages (from tensorboard<2.10,>=2.9->tensorflow) (2.10.0)\n",
      "Requirement already satisfied: werkzeug>=1.0.1 in /opt/conda/lib/python3.9/site-packages (from tensorboard<2.10,>=2.9->tensorflow) (2.2.2)\n",
      "Requirement already satisfied: tensorboard-data-server<0.7.0,>=0.6.0 in /opt/conda/lib/python3.9/site-packages (from tensorboard<2.10,>=2.9->tensorflow) (0.6.1)\n",
      "Requirement already satisfied: markdown>=2.6.8 in /opt/conda/lib/python3.9/site-packages (from tensorboard<2.10,>=2.9->tensorflow) (3.4.1)\n",
      "Requirement already satisfied: tensorboard-plugin-wit>=1.6.0 in /opt/conda/lib/python3.9/site-packages (from tensorboard<2.10,>=2.9->tensorflow) (1.8.1)\n",
      "Requirement already satisfied: google-auth-oauthlib<0.5,>=0.4.1 in /opt/conda/lib/python3.9/site-packages (from tensorboard<2.10,>=2.9->tensorflow) (0.4.6)\n",
      "Requirement already satisfied: aiosignal>=1.1.2 in /opt/conda/lib/python3.9/site-packages (from aiohttp->datasets) (1.2.0)\n",
      "Requirement already satisfied: yarl<2.0,>=1.0 in /opt/conda/lib/python3.9/site-packages (from aiohttp->datasets) (1.8.1)\n",
      "Requirement already satisfied: attrs>=17.3.0 in /opt/conda/lib/python3.9/site-packages (from aiohttp->datasets) (22.1.0)\n",
      "Requirement already satisfied: multidict<7.0,>=4.5 in /opt/conda/lib/python3.9/site-packages (from aiohttp->datasets) (6.0.2)\n",
      "Requirement already satisfied: frozenlist>=1.1.1 in /opt/conda/lib/python3.9/site-packages (from aiohttp->datasets) (1.3.1)\n",
      "Requirement already satisfied: async-timeout<5.0,>=4.0.0a3 in /opt/conda/lib/python3.9/site-packages (from aiohttp->datasets) (4.0.2)\n",
      "Requirement already satisfied: MarkupSafe>=2.0 in /opt/conda/lib/python3.9/site-packages (from jinja2->spacy) (2.1.1)\n",
      "Requirement already satisfied: pytz>=2020.1 in /opt/conda/lib/python3.9/site-packages (from pandas->datasets) (2022.1)\n",
      "Requirement already satisfied: threadpoolctl>=2.0.0 in /opt/conda/lib/python3.9/site-packages (from scikit-learn->sklearn) (3.1.0)\n",
      "Requirement already satisfied: joblib>=1.0.0 in /opt/conda/lib/python3.9/site-packages (from scikit-learn->sklearn) (1.1.0)\n",
      "Requirement already satisfied: scipy>=1.3.2 in /opt/conda/lib/python3.9/site-packages (from scikit-learn->sklearn) (1.9.0)\n",
      "Requirement already satisfied: pyasn1-modules>=0.2.1 in /opt/conda/lib/python3.9/site-packages (from google-auth<3,>=1.6.3->tensorboard<2.10,>=2.9->tensorflow) (0.2.8)\n",
      "Requirement already satisfied: cachetools<6.0,>=2.0.0 in /opt/conda/lib/python3.9/site-packages (from google-auth<3,>=1.6.3->tensorboard<2.10,>=2.9->tensorflow) (5.2.0)\n",
      "Requirement already satisfied: rsa<5,>=3.1.4 in /opt/conda/lib/python3.9/site-packages (from google-auth<3,>=1.6.3->tensorboard<2.10,>=2.9->tensorflow) (4.9)\n",
      "Requirement already satisfied: requests-oauthlib>=0.7.0 in /opt/conda/lib/python3.9/site-packages (from google-auth-oauthlib<0.5,>=0.4.1->tensorboard<2.10,>=2.9->tensorflow) (1.3.1)\n",
      "Requirement already satisfied: importlib-metadata>=4.4 in /opt/conda/lib/python3.9/site-packages (from markdown>=2.6.8->tensorboard<2.10,>=2.9->tensorflow) (4.12.0)\n",
      "Requirement already satisfied: zipp>=0.5 in /opt/conda/lib/python3.9/site-packages (from importlib-metadata>=4.4->markdown>=2.6.8->tensorboard<2.10,>=2.9->tensorflow) (3.8.1)\n",
      "Requirement already satisfied: pyasn1<0.5.0,>=0.4.6 in /opt/conda/lib/python3.9/site-packages (from pyasn1-modules>=0.2.1->google-auth<3,>=1.6.3->tensorboard<2.10,>=2.9->tensorflow) (0.4.8)\n",
      "Requirement already satisfied: oauthlib>=3.0.0 in /opt/conda/lib/python3.9/site-packages (from requests-oauthlib>=0.7.0->google-auth-oauthlib<0.5,>=0.4.1->tensorboard<2.10,>=2.9->tensorflow) (3.2.0)\n",
      "Note: you may need to restart the kernel to use updated packages.\n"
     ]
    }
   ],
   "source": [
    "pip install torch transformers spacy tensorflow matplotlib datasets sklearn"
   ]
  },
  {
   "cell_type": "code",
   "execution_count": 936,
   "id": "7326a5a3-8f26-4c9b-9d7e-767b90c28860",
   "metadata": {
    "tags": []
   },
   "outputs": [],
   "source": [
    "import spacy\n",
    "import torch\n",
    "import random\n",
    "import json\n",
    "import re\n",
    "import tensorflow as tf\n",
    "import pandas as pd\n",
    "from collections import Counter\n",
    "import matplotlib.pyplot as plt\n",
    "import numpy as np\n",
    "import datasets\n",
    "from datasets import load_dataset, load_metric\n",
    "import string\n",
    "import torch.nn.functional as F\n",
    "import sklearn\n",
    "from sklearn.model_selection import train_test_split\n",
    "import transformers\n",
    "from transformers import (\n",
    "    BertModel,\n",
    "    BertTokenizer,\n",
    "    BertForPreTraining,\n",
    "    BertConfig,\n",
    "    BertForMaskedLM,\n",
    "    Trainer,\n",
    "    TrainingArguments\n",
    ")\n",
    "from transformers.trainer_utils import get_last_checkpoint"
   ]
  },
  {
   "cell_type": "code",
   "execution_count": 8,
   "id": "e0ca7dea-47ca-437a-a308-a16acecdf980",
   "metadata": {},
   "outputs": [],
   "source": [
    "#pip install 'en_core_web_lg.tar.gz'\n",
    "nlp = spacy.load('en_core_web_lg-3.2.0/en_core_web_lg/en_core_web_lg-3.2.0')"
   ]
  },
  {
   "cell_type": "code",
   "execution_count": 794,
   "id": "19f56a6a-4063-48ec-b5ad-93e71236130f",
   "metadata": {},
   "outputs": [
    {
     "name": "stderr",
     "output_type": "stream",
     "text": [
      "Using custom data configuration default-0cd2026000bdb6b0\n",
      "Reusing dataset csv (/home/jovyan/.cache/huggingface/datasets/csv/default-0cd2026000bdb6b0/0.0.0/652c3096f041ee27b04d2232d41f10547a8fecda3e284a79a0ec4053c916ef7a)\n",
      "100%|██████████| 1/1 [00:00<00:00, 239.21it/s]\n",
      "Loading cached processed dataset at /home/jovyan/.cache/huggingface/datasets/csv/default-0cd2026000bdb6b0/0.0.0/652c3096f041ee27b04d2232d41f10547a8fecda3e284a79a0ec4053c916ef7a/cache-ac7e3b60ed8a41f4.arrow\n",
      "Loading cached processed dataset at /home/jovyan/.cache/huggingface/datasets/csv/default-0cd2026000bdb6b0/0.0.0/652c3096f041ee27b04d2232d41f10547a8fecda3e284a79a0ec4053c916ef7a/cache-bb5c1fcb8dbfcd52.arrow\n"
     ]
    }
   ],
   "source": [
    "#load in IMDB dataset\n",
    "dataset_imdb = load_dataset('csv', data_files = \"IMDB-review-sentiment.csv\")\n",
    "dataset_imdb.keys()\n",
    "dataset_imdb = dataset_imdb.map(lambda x: {\"len\":len(x['review'])})\n",
    "dataset_imdb = dataset_imdb.map(lambda x: {\"next_sentence_label\":0})\n",
    "max(dataset_imdb['train']['len'])\n",
    "dataset_imdb = dataset_imdb['train'].train_test_split(test_size=0.2)"
   ]
  },
  {
   "cell_type": "code",
   "execution_count": 1020,
   "id": "b3f6cc8e-9e1b-4dd2-b5d9-0fef0e20a2b1",
   "metadata": {},
   "outputs": [],
   "source": [
    "#function for preprocessing the test dataset and splitting the dataset into chunks of 10000\n",
    "#remove new line \"<br />\", remove '\\\\'\n",
    "chunks =[]\n",
    "\n",
    "def preproc(dataset):\n",
    "    preproc_list =[]\n",
    "    nobackslash_list=[]\n",
    "    \n",
    "    for sub in dataset_imdb['test']['review']: \n",
    "        preproc_list.append(sub.replace(\"<br />\", \" \"))\n",
    "\n",
    "    for ele in preproc_list:\n",
    "        nobackslash_list = ele.strip('\\\\')\n",
    "    \n",
    "    concatenated_list = ' '.join(preproc_list)\n",
    "    \n",
    "    global chunks\n",
    "    chunks = [concatenated_list[x:x+10000] for x in range(0, len(concatenated_list), 10000)]\n",
    "    "
   ]
  },
  {
   "cell_type": "code",
   "execution_count": 756,
   "id": "108a0f40-13d6-4ef4-9de7-842c93770b69",
   "metadata": {},
   "outputs": [],
   "source": [
    "preproc(dataset_imdb)"
   ]
  },
  {
   "cell_type": "code",
   "execution_count": 747,
   "id": "93e51bf8-a1e8-4792-aa1c-fdedaf9c3004",
   "metadata": {},
   "outputs": [],
   "source": [
    "docs = list(nlp.pipe(chunks))"
   ]
  },
  {
   "cell_type": "code",
   "execution_count": 931,
   "id": "87dea26c-935f-45f1-8c23-31b8223fd8ca",
   "metadata": {},
   "outputs": [],
   "source": [
    "#create test dataset by masking every seventh occurrence of the attribute (approximately 14,3%)\n",
    "#We pick the 5 most common entities: in this case this is PERSON, ORG, CARDINAL, GPE and DATE. \n",
    "\n",
    "gpe = 'GPE'\n",
    "cardinal = 'CARDINAL'\n",
    "date = 'DATE'\n",
    "org = 'ORG'\n",
    "person = 'PERSON'\n",
    "rand = 'RANDOM'\n",
    "\n",
    "def createDataset(attribute):\n",
    "    count = 0\n",
    "    result = []\n",
    "\n",
    "    for doc in docs: \n",
    "        for token in doc:\n",
    "            if token.ent_type_ == attribute: \n",
    "                count+=1\n",
    "            if token.ent_type_ == attribute and count % 7 == 0:\n",
    "                result.append(\"[MASK]\")\n",
    "            else:\n",
    "                result.append(token.text)\n",
    "            result.append(token.whitespace_)\n",
    "            \n",
    "    global test_dataset\n",
    "    test_dataset = ''.join(result)\n",
    "    \n",
    "    with open(attribute+'_test_dataset', 'w') as f:\n",
    "        f.write(test_dataset)\n",
    "    \n",
    "    #return test_dataset\n",
    "    #return count\n",
    "\n"
   ]
  },
  {
   "cell_type": "code",
   "execution_count": 971,
   "id": "08693733-809c-4960-95f6-10c2f12fd720",
   "metadata": {},
   "outputs": [],
   "source": [
    "createDataset(time)"
   ]
  },
  {
   "cell_type": "code",
   "execution_count": 819,
   "id": "36c65241-01ec-4279-95a9-c73a1fa13383",
   "metadata": {},
   "outputs": [],
   "source": [
    "#create random baseline dataset\n",
    "#every seventh occurrence of the 5 most common attributes is masked\n",
    "res = []\n",
    "count=0\n",
    "\n",
    "for doc in docs:\n",
    "    for token in doc: \n",
    "        if token.ent_type_ ==\"PERSON\":\n",
    "            count +=1\n",
    "        if token.ent_type_ == \"PERSON\" and (count % 7 == 0):\n",
    "            res.append('[MASK]')\n",
    "            \n",
    "        if token.ent_type_ == \"ORG\":\n",
    "            count+=1\n",
    "        if token.ent_type_ == \"ORG\" and (count % 7 ==0):\n",
    "            res.append('[MASK]')\n",
    "            \n",
    "        if token.ent_type_ == \"CARDINAL\":\n",
    "            count+=1\n",
    "        if token.ent_type_ == \"CARDINAL\" and (count % 7 ==0):\n",
    "            res.append('[MASK]')\n",
    "        \n",
    "        if token.ent_type_ == \"GPE\":\n",
    "            count+=1\n",
    "        if token.ent_type_ == \"GPE\" and (count % 7 ==0):\n",
    "            res.append('[MASK]')\n",
    "            \n",
    "        if token.ent_type_ == \"DATE\":\n",
    "            count+=1\n",
    "        if token.ent_type_ == \"DATE\" and (count % 7 ==0):\n",
    "            res.append('[MASK]')\n",
    "        \n",
    "        else:\n",
    "            res.append(token.text)\n",
    "        res.append(token.whitespace_)\n",
    "\n",
    "test_random = ''.join(res)"
   ]
  },
  {
   "cell_type": "code",
   "execution_count": 1022,
   "id": "a97d6dd5-5aeb-493c-aaae-8380ac617cb3",
   "metadata": {},
   "outputs": [],
   "source": [
    "#generate a word for the [MASK] tokens in the test dataset\n",
    "def generate_sent(sentence):\n",
    "    input = tokenizer.encode_plus(\n",
    "        sentence, return_tensors=\"pt\", truncation=True, max_length=512\n",
    "    )\n",
    "    tokens = input[\"input_ids\"][0]\n",
    "    mask_index = torch.where(\n",
    "        (tokens == tokenizer.mask_token_id)\n",
    "        & (  # pick masked\n",
    "            (\n",
    "                (torch.roll(tokens, 1) != tokenizer.mask_token_id)\n",
    "                & (torch.roll(tokens, 1) != tokenizer.cls_token)\n",
    "            )  \n",
    "            | (\n",
    "                (torch.roll(tokens, -1) != tokenizer.mask_token_id)\n",
    "                & (torch.roll(tokens, -1) != tokenizer.sep_token_id)\n",
    "            ) \n",
    "        )\n",
    "    )[0]\n",
    "\n",
    "    if len(mask_index) == 0:\n",
    "        return sentence, []\n",
    "    else:\n",
    "        mask_index = mask_index[0]\n",
    "    output = model(**input)\n",
    "    logits = output.logits\n",
    "    softmax = F.softmax(logits, dim=-1)\n",
    "    mask_word = softmax[0, mask_index, :]\n",
    "    #randomly pick a word from the top 10 choices\n",
    "    top = torch.topk(mask_word, 10, dim=-1)[1]\n",
    "    token = random.choice(top)\n",
    "    tokens[mask_index] = token\n",
    "    return tokenizer.decode(tokens[1:-1]), tokenizer.decode([token])\n",
    "\n",
    "#returns a tuple containing the generated text and a list containing all masks\n",
    "def generate(start):\n",
    "    tokens = []\n",
    "    while tokenizer.mask_token in start:\n",
    "        start, tok = generate_sent(start)\n",
    "        tokens.append(tok)\n",
    "    return start, tokens\n",
    "    \n",
    "    \n",
    "#split the sentences at interpunction, if the sentence contains a [MASK], generate a word\n",
    "def fill_masks_chunks(text):\n",
    "    sents = re.split(\"[,.?!]\", text)\n",
    "    generated_sents = [generate(sent) for sent in sents]\n",
    "    tup = tuple(zip(*generated_sents))\n",
    "    new_text = \" \".join(tup[0])\n",
    "    new_masks = [y for x in tup[1] for y in x]\n",
    "    return new_text, new_masks"
   ]
  },
  {
   "cell_type": "code",
   "execution_count": 972,
   "id": "6d737bbe-28f8-492f-b527-c4cc1f159de0",
   "metadata": {},
   "outputs": [
    {
     "name": "stderr",
     "output_type": "stream",
     "text": [
      "Some weights of the model checkpoint at /home/jovyan/model/output_final/bert1/ were not used when initializing BertForMaskedLM: ['cls.seq_relationship.weight', 'cls.seq_relationship.bias']\n",
      "- This IS expected if you are initializing BertForMaskedLM from the checkpoint of a model trained on another task or with another architecture (e.g. initializing a BertForSequenceClassification model from a BertForPreTraining model).\n",
      "- This IS NOT expected if you are initializing BertForMaskedLM from the checkpoint of a model that you expect to be exactly identical (initializing a BertForSequenceClassification model from a BertForSequenceClassification model).\n"
     ]
    }
   ],
   "source": [
    "model_name = \"/home/jovyan/model/output_final/bert1/\"\n",
    "tokenizer = BertTokenizer.from_pretrained('/home/jovyan/model/output_final/bert1/vocab.txt')\n",
    "model = BertForMaskedLM.from_pretrained(model_name)\n",
    "model.resize_token_embeddings(len(tokenizer))\n",
    "model.eval()\n",
    "\n",
    "#change to either test_dataset or test_random\n",
    "new_data = fill_masks_chunks(test_dataset)"
   ]
  },
  {
   "cell_type": "code",
   "execution_count": 976,
   "id": "dc89ccc2-d78a-469f-b38a-fc77d45170ca",
   "metadata": {},
   "outputs": [],
   "source": [
    "#get the list of predicted tokens and calculate the probability of correctly predicted masks\n",
    "acc=0\n",
    "\n",
    "def accuracy(attribute):\n",
    "    only_predicted_tokens = new_data[1]\n",
    "    newdata= ' '.join(only_predicted_tokens)\n",
    "    \n",
    "    with open(attribute+'_allmasks_predicted', 'w') as f:\n",
    "        f.write((str(new_data[1])))\n",
    "    \n",
    "    doc1 = nlp(newdata)\n",
    "    \n",
    "    count_success = 0\n",
    "    count_all = 0\n",
    "\n",
    "    for ents in doc1:\n",
    "        if ents.ent_type_ == attribute:\n",
    "            count_success+=1\n",
    "            count_all+=1\n",
    "        else:\n",
    "            count_all+=1\n",
    "\n",
    "    print(count_all)\n",
    "    print(count_success)\n",
    "    \n",
    "    global acc\n",
    "    acc = ((count_success/count_all)*100)\n",
    "    return (acc)"
   ]
  },
  {
   "cell_type": "code",
   "execution_count": 975,
   "id": "2f0aa609-d2f2-43c9-8855-b95101ff6e26",
   "metadata": {},
   "outputs": [
    {
     "name": "stdout",
     "output_type": "stream",
     "text": [
      "1181\n",
      "219\n"
     ]
    },
    {
     "data": {
      "text/plain": [
       "18.543607112616428"
      ]
     },
     "execution_count": 975,
     "metadata": {},
     "output_type": "execute_result"
    }
   ],
   "source": [
    "accuracy(time)"
   ]
  },
  {
   "cell_type": "code",
   "execution_count": null,
   "id": "33065b02-9037-4f6c-98dc-f02098f6b497",
   "metadata": {},
   "outputs": [],
   "source": [
    "#---------------------------------------------------"
   ]
  },
  {
   "cell_type": "code",
   "execution_count": 983,
   "id": "a488e231-34a8-43a2-90de-c9a180502e61",
   "metadata": {},
   "outputs": [],
   "source": [
    "#count 10 most frequent occurrences in the PREDICTED MASKS & plot them.\n",
    "\n",
    "def DrawPredicted(attribute):\n",
    "    \n",
    "    predicted_masks = open(attribute+'_allmasks_predicted', 'r').read()\n",
    "    \n",
    "    freq_count_predicted = Counter(predicted_masks.split()).most_common(10)\n",
    "\n",
    "    nbars = len(freq_count_predicted)\n",
    "    number = [item[1] for item in freq_count_predicted]\n",
    "    labels = [item[0] for item in freq_count_predicted]\n",
    "    width = [0.5]\n",
    "    plt.bar(np.arange(nbars), number, tick_label = labels, width = width)\n",
    "    plt.xticks(rotation=45)\n",
    "\n",
    "    plt.xlabel('Predicted ' + attribute + ' Entities')\n",
    "    plt.ylabel('Number of Occurrences')\n",
    "    plt.suptitle('The 10 Most Common Predicted '+  attribute + ' Entities.')\n",
    "\n",
    "    fig1 = plt.gcf()\n",
    "    fig1.show()\n",
    "    fig1.tight_layout()\n",
    "    fig1.savefig(attribute +'_predicted.jpg', dpi=99)"
   ]
  },
  {
   "cell_type": "code",
   "execution_count": 1014,
   "id": "56db076b-136d-4b87-9521-6c834431c439",
   "metadata": {},
   "outputs": [
    {
     "data": {
      "image/png": "[encoded data removed]",
      "text/plain": [
       "<Figure size 432x288 with 1 Axes>"
      ]
     },
     "metadata": {
      "needs_background": "light"
     },
     "output_type": "display_data"
    }
   ],
   "source": [
    "DrawPredicted(date)"
   ]
  },
  {
   "cell_type": "code",
   "execution_count": 1001,
   "id": "40bd75b7-76a0-49b2-9018-d95c736d16d3",
   "metadata": {},
   "outputs": [],
   "source": [
    "#count 10 most frequent occurrences in the TESTDATASET & plot them.\n",
    "def drawMostCommonTest(attribute):\n",
    "    freq_dataset = []\n",
    "    most_10freq =[]\n",
    "\n",
    "    for doc in docs: \n",
    "        freq_dataset.append([ent.text for ent in doc.ents if ent.label_ == attribute])\n",
    "        \n",
    "    freq_count = Counter(x for xs in freq_dataset for x in set(xs))\n",
    "    most_10freq = freq_count.most_common(10)  \n",
    "    \n",
    "    nbars = len(most_10freq)\n",
    "    number = [item[1] for item in most_10freq]\n",
    "    labels = [item[0] for item in most_10freq]\n",
    "    width = [0.5]\n",
    "    plt.bar(np.arange(nbars), number, tick_label = labels, width = width)\n",
    "    plt.xticks(rotation=45)\n",
    "\n",
    "    plt.xlabel(attribute + ' Entities in the Test Dataset.')\n",
    "    plt.ylabel('Number of Occurrences')\n",
    "    plt.suptitle('10 Most Common ' +attribute + ' Entities in the Test Dataset.')\n",
    "\n",
    "    fig1 = plt.gcf()\n",
    "    fig1.show()\n",
    "    fig1.tight_layout()\n",
    "    fig1.savefig(attribute +'_test.jpg', dpi=99)\n",
    "    \n",
    "    #uncomment for a list of the 10 most common entities.\n",
    "    #return most_10freq\n",
    "\n"
   ]
  },
  {
   "cell_type": "code",
   "execution_count": 1013,
   "id": "6d8584bb-1361-48f1-a244-239887f0d7f0",
   "metadata": {},
   "outputs": [
    {
     "data": {
      "image/png": "[encoded data removed]",
      "text/plain": [
       "<Figure size 432x288 with 1 Axes>"
      ]
     },
     "metadata": {
      "needs_background": "light"
     },
     "output_type": "display_data"
    }
   ],
   "source": [
    "drawMostCommonTest(date)"
   ]
  }
 ],
 "metadata": {
  "kernelspec": {
   "display_name": "Python 3 (ipykernel)",
   "language": "python",
   "name": "python3"
  },
  "language_info": {
   "codemirror_mode": {
    "name": "ipython",
    "version": 3
   },
   "file_extension": ".py",
   "mimetype": "text/x-python",
   "name": "python",
   "nbconvert_exporter": "python",
   "pygments_lexer": "ipython3",
   "version": "3.9.12"
  },
  "toc-autonumbering": true
 },
 "nbformat": 4,
 "nbformat_minor": 5
}
